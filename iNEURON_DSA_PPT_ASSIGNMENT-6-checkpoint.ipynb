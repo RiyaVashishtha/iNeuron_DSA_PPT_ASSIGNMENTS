{
 "cells": [
  {
   "cell_type": "markdown",
   "id": "d722f113",
   "metadata": {},
   "source": [
    "# **Question 1**\n",
    "\n",
    "A permutation perm of n + 1 integers of all the integers in the range [0, n] can be represented as a string s of length n where:\n",
    "\n",
    "- s[i] == 'I' if perm[i] < perm[i + 1], and\n",
    "- s[i] == 'D' if perm[i] > perm[i + 1].\n",
    "\n",
    "Given a string s, reconstruct the permutation perm and return it. If there are multiple valid permutations perm, return **any of them**.\n",
    "\n",
    "**Example 1:**\n",
    "\n",
    "**Input:** s = \"IDID\"\n",
    "\n",
    "**Output:**\n",
    "\n",
    "[0,4,1,3,2]\n"
   ]
  },
  {
   "cell_type": "code",
   "execution_count": 20,
   "id": "e9e9172f",
   "metadata": {},
   "outputs": [
    {
     "data": {
      "text/plain": [
       "[0, 4, 1, 3, 2]"
      ]
     },
     "execution_count": 20,
     "metadata": {},
     "output_type": "execute_result"
    }
   ],
   "source": [
    "# time complexity O(N)\n",
    "# space complexity O(1)\n",
    "\n",
    "def diStringMatch(s):\n",
    "    low  = 0\n",
    "    high = len(s)\n",
    "    res = []\n",
    "    for i in s:\n",
    "        if i == 'I':\n",
    "            res.append(low)\n",
    "            low += 1\n",
    "        else:\n",
    "            res.append(high)\n",
    "            high -= 1\n",
    "    # here high and low will be equal so we can add either low or high in the result array\n",
    "    return res + [high]\n",
    "\n",
    "diStringMatch(\"IDID\")"
   ]
  },
  {
   "cell_type": "markdown",
   "id": "ed7c504a",
   "metadata": {},
   "source": [
    "# **Question 2**\n",
    "\n",
    "You are given an m x n integer matrix matrix with the following two properties:\n",
    "\n",
    "- Each row is sorted in non-decreasing order.\n",
    "- The first integer of each row is greater than the last integer of the previous row.\n",
    "\n",
    "Given an integer target, return true *if* target *is in* matrix *or* false *otherwise*.\n",
    "\n",
    "You must write a solution in O(log(m * n)) time complexity.\n",
    "\n",
    "**Example 1:**\n",
    "\n",
    "**Input:** matrix = [[1,3,5,7],[10,11,16,20],[23,30,34,60]], target = 3\n",
    "\n",
    "**Output:** true"
   ]
  },
  {
   "cell_type": "code",
   "execution_count": 1,
   "id": "8812d6e9",
   "metadata": {},
   "outputs": [
    {
     "data": {
      "text/plain": [
       "True"
      ]
     },
     "execution_count": 1,
     "metadata": {},
     "output_type": "execute_result"
    }
   ],
   "source": [
    " def searchMatrix(matrix, target):\n",
    "        # binary search 2 times\n",
    "        # 1st on the rows O(logm)\n",
    "        # 2nd on the ntj column of that row O(logn)\n",
    "        # total time complexity O(log m + log n)\n",
    "        rows = len(matrix)\n",
    "        \n",
    "        cols = len(matrix[0])\n",
    "        top = 0\n",
    "        # for finding row from top to bottom\n",
    "        bottom = rows-1\n",
    "        while top <= bottom:\n",
    "            mid = (top+bottom)//2\n",
    "            if target > matrix[mid][-1]:\n",
    "                top = mid+1\n",
    "            elif target < matrix[mid][0]:\n",
    "                bottom = mid-1\n",
    "            else:\n",
    "                break\n",
    "        if not (top <= bottom):\n",
    "            return False\n",
    "        mid = (top+bottom)//2\n",
    "        l = 0\n",
    "        r = cols-1\n",
    "        # for finding target from left to right after finding which row target can be \n",
    "        while l <= r:\n",
    "            m = (l+r)//2\n",
    "            if target > matrix[mid][m]:\n",
    "                l = m +1\n",
    "            elif target < matrix[mid][m]:\n",
    "                r = m -1\n",
    "            else:\n",
    "                return True\n",
    "        return False\n",
    "\n",
    "searchMatrix([[1,3,5,7],[10,11,16,20],[23,30,34,60]],3)\n",
    "\n",
    "                "
   ]
  },
  {
   "cell_type": "markdown",
   "id": "98c9086a",
   "metadata": {},
   "source": [
    "# **Question 3**\n",
    "\n",
    "Given an array of integers arr, return *true if and only if it is a valid mountain array*.\n",
    "\n",
    "Recall that arr is a mountain array if and only if:\n",
    "\n",
    "- arr.length >= 3\n",
    "- There exists some i with 0 < i < arr.length - 1 such that:\n",
    "    - arr[0] < arr[1] < ... < arr[i - 1] < arr[i]\n",
    "    - arr[i] > arr[i + 1] > ... > arr[arr.length - 1]\n",
    "    \n",
    "**Example 1:**\n",
    "\n",
    "**Input:** arr = [2,1]\n",
    "\n",
    "**Output:**\n",
    "\n",
    "false"
   ]
  },
  {
   "cell_type": "code",
   "execution_count": 8,
   "id": "0376e0a2",
   "metadata": {},
   "outputs": [
    {
     "data": {
      "text/plain": [
       "False"
      ]
     },
     "execution_count": 8,
     "metadata": {},
     "output_type": "execute_result"
    }
   ],
   "source": [
    "def validMountainArray(arr):\n",
    "    strictly_increasing = strictly_dec = False\n",
    "    for i in range(1,len(arr)):\n",
    "        if arr[i] > arr[i-1]:\n",
    "            if strictly_dec:\n",
    "                return False\n",
    "            strictly_increasing = True\n",
    "            if arr[i] < arr[i-1]:\n",
    "                if strictly_increasing:\n",
    "                    return false\n",
    "                strictly_dec = True\n",
    "            else:\n",
    "                # if arr[i] == arr[i-1]\n",
    "                return False\n",
    "        return True if strictly_increasing and strictly_dec else False\n",
    "    \n",
    "\n",
    "validMountainArray([3,5,5])  \n",
    "\n",
    "#Example 1:\n",
    "#Input: arr = [2,1]\n",
    "#Output: false\n",
    "#Example 2:\n",
    "#Input: arr = [3,5,5]\n",
    "#Output: false\n",
    "#Example 3:\n",
    "#Input: arr = [0,3,2,1]\n",
    "#Output: true\n",
    "                \n",
    "                \n",
    "        "
   ]
  },
  {
   "cell_type": "markdown",
   "id": "9287cc30",
   "metadata": {},
   "source": [
    "# **Question 4**\n",
    "\n",
    "Given a binary array nums, return *the maximum length of a contiguous subarray with an equal number of* 0 *and* 1.\n",
    "\n",
    "**Example 1:**\n",
    "\n",
    "**Input:** nums = [0,1]\n",
    "\n",
    "**Output:** 2\n",
    "\n",
    "**Explanation:**\n",
    "\n",
    "[0, 1] is the longest contiguous subarray with an equal number of 0 and 1.\n"
   ]
  },
  {
   "cell_type": "code",
   "execution_count": 17,
   "id": "57d691ce",
   "metadata": {},
   "outputs": [
    {
     "data": {
      "text/plain": [
       "2"
      ]
     },
     "execution_count": 17,
     "metadata": {},
     "output_type": "execute_result"
    }
   ],
   "source": [
    "# time complexity O(N)\n",
    "# space complexity O(N)\n",
    "\n",
    "def findMaxLength(nums):\n",
    "    count = 0\n",
    "    mp = {}\n",
    "    # map{count:index}\n",
    "    max_length = 0\n",
    "    for i in range(len(nums)):\n",
    "        if nums[i] == 0:\n",
    "            count -= 1 # decrement our count if our current element is 0\n",
    "        elif nums[i] == 1:\n",
    "            count += 1 # increment our count if our current element is 1\n",
    "            \n",
    "        if count == 0:\n",
    "            # if count is 0, we have a new subarray with length+1\n",
    "            max_length = i+1\n",
    "            \n",
    "        if count in mp:\n",
    "            max_length = max(max_length, i-mp[count])\n",
    "        else:\n",
    "            mp[count] = i\n",
    "    return max_length\n",
    "\n",
    "findMaxLength([0,1])\n",
    "# nums = [0,1,0]\n",
    "\n",
    "            "
   ]
  },
  {
   "cell_type": "code",
   "execution_count": 18,
   "id": "a942d4bc",
   "metadata": {},
   "outputs": [
    {
     "data": {
      "text/plain": [
       "2"
      ]
     },
     "execution_count": 18,
     "metadata": {},
     "output_type": "execute_result"
    }
   ],
   "source": [
    "findMaxLength([0,1,0])"
   ]
  },
  {
   "cell_type": "markdown",
   "id": "15dc6dba",
   "metadata": {},
   "source": [
    "# **Question 5**\n",
    "\n",
    "The **product sum** of two equal-length arrays a and b is equal to the sum of a[i] * b[i] for all 0 <= i < a.length (**0-indexed**).\n",
    "\n",
    "- For example, if a = [1,2,3,4] and b = [5,2,3,1], the **product sum** would be 1*5 + 2*2 + 3*3 + 4*1 = 22.\n",
    "\n",
    "Given two arrays nums1 and nums2 of length n, return *the **minimum product sum** if you are allowed to **rearrange** the **order** of the elements in* nums1.\n",
    "\n",
    "**Example 1:**\n",
    "\n",
    "**Input:** nums1 = [5,3,4,2], nums2 = [4,2,2,5]\n",
    "\n",
    "**Output:** 40\n",
    "\n",
    "**Explanation:**\n",
    "\n",
    "We can rearrange nums1 to become [3,5,4,2]. The product sum of [3,5,4,2] and [4,2,2,5] is 3*4 + 5*2 + 4*2 + 2*5 = 40.\n",
    "\n"
   ]
  },
  {
   "cell_type": "code",
   "execution_count": 16,
   "id": "901455fc",
   "metadata": {},
   "outputs": [
    {
     "data": {
      "text/plain": [
       "40"
      ]
     },
     "execution_count": 16,
     "metadata": {},
     "output_type": "execute_result"
    }
   ],
   "source": [
    "# time complexity O(N log N)\n",
    "# space complexity O(1)\n",
    "def minProductSum(nums1,nums2):\n",
    "    nums1.sort()\n",
    "    nums2.sort()\n",
    "    n = len(nums1)\n",
    "    res = 0\n",
    "    for i in range(n):\n",
    "        res += nums1[i] * nums2[n-i-1]\n",
    "    return res\n",
    "\n",
    "# minProductSum([1,2,3,4],[5,2,3,1])\n",
    "minProductSum([5,3,4,2],[4,2,2,5])"
   ]
  },
  {
   "cell_type": "markdown",
   "id": "22473b02",
   "metadata": {},
   "source": [
    "# **Question 6**\n",
    "\n",
    "An integer array original is transformed into a **doubled** array changed by appending **twice the value** of every element in original, and then randomly **shuffling** the resulting array.\n",
    "\n",
    "Given an array changed, return original *if* changed *is a **doubled** array. If* changed *is not a **doubled** array, return an empty array. The elements in* original *may be returned in **any** order*.\n",
    "\n",
    "**Example 1:**\n",
    "\n",
    "**Input:** changed = [1,3,4,2,6,8]\n",
    "\n",
    "**Output:** [1,3,4]\n",
    "\n",
    "**Explanation:** One possible original array could be [1,3,4]:\n",
    "\n",
    "- Twice the value of 1 is 1 * 2 = 2.\n",
    "- Twice the value of 3 is 3 * 2 = 6.\n",
    "- Twice the value of 4 is 4 * 2 = 8.\n",
    "\n",
    "Other original arrays could be [4,3,1] or [3,1,4].\n"
   ]
  },
  {
   "cell_type": "code",
   "execution_count": 1,
   "id": "c00004d7",
   "metadata": {},
   "outputs": [
    {
     "data": {
      "text/plain": [
       "[1, 3, 4]"
      ]
     },
     "execution_count": 1,
     "metadata": {},
     "output_type": "execute_result"
    }
   ],
   "source": [
    "import collections\n",
    "def findOriginalArray(changed):\n",
    "    if len(changed) % 2 != 0:\n",
    "        return []\n",
    "    occurence = collections.Counter(changed)\n",
    "    changed.sort()\n",
    "    res = []\n",
    "    for num in changed:\n",
    "        if occurence[num] == 0:\n",
    "            continue\n",
    "        if occurence[num * 2] == 0:\n",
    "            return []\n",
    "        if num == 0 and occurence[num] <= 1:\n",
    "            return []\n",
    "        \n",
    "        res.append(num)\n",
    "        occurence[num] -= 1\n",
    "        occurence[num * 2] -= 1\n",
    "    return res\n",
    "\n",
    "findOriginalArray( [1,3,4,2,6,8])\n",
    "    "
   ]
  },
  {
   "cell_type": "markdown",
   "id": "096cb026",
   "metadata": {},
   "source": [
    "# **Question 7**\n",
    "\n",
    "Given a positive integer n, generate an n x n matrix filled with elements from 1 to n2 in spiral order.\n",
    "\n",
    "**Example 1:**\n",
    "\n",
    "**Input:** n = 3\n",
    "\n",
    "**Output:** [[1,2,3],[8,9,4],[7,6,5]]"
   ]
  },
  {
   "cell_type": "code",
   "execution_count": 11,
   "id": "ea2bb6cb",
   "metadata": {},
   "outputs": [
    {
     "data": {
      "text/plain": [
       "[[1, 2, 3, 4], [12, 13, 14, 5], [11, 16, 15, 6], [10, 9, 8, 7]]"
      ]
     },
     "execution_count": 11,
     "metadata": {},
     "output_type": "execute_result"
    }
   ],
   "source": [
    "def generateMatrix(n):\n",
    "        mat = [[0] * n  for _ in range(n)]\n",
    "        left = 0\n",
    "        right = n-1\n",
    "        top = 0\n",
    "        bottom = n-1\n",
    "        val = 1\n",
    "        while left <= right:\n",
    "            # to fill every value in top row let to right\n",
    "            for c in range(left,right+1):\n",
    "                mat[top][c] = val\n",
    "                val += 1\n",
    "            top += 1\n",
    "            # to fill every value right column from top to bottom\n",
    "            for r in range(top,bottom+1):\n",
    "                mat[r][right] = val\n",
    "                val += 1\n",
    "            right -= 1\n",
    "            \n",
    "            # to fill every value in bottom row from right to left\n",
    "            for c in range(right,left-1,-1):\n",
    "                mat[bottom][c] = val\n",
    "                val += 1\n",
    "            bottom -= 1\n",
    "            \n",
    "            # to fill every value in left column from bottom to top\n",
    "            for r in range(bottom, top-1,-1):\n",
    "                mat[r][left] = val\n",
    "                val += 1\n",
    "            left += 1\n",
    "        \n",
    "        return mat\n",
    "\n",
    "generateMatrix(3)\n",
    "generateMatrix(4)\n",
    "            "
   ]
  },
  {
   "cell_type": "markdown",
   "id": "189edd35",
   "metadata": {},
   "source": [
    "# **Question 8**\n",
    "\n",
    "Given two [sparse matrices](https://en.wikipedia.org/wiki/Sparse_matrix) mat1 of size m x k and mat2 of size k x n, return the result of mat1 x mat2. You may assume that multiplication is always possible.\n",
    "\n",
    "**Example 1:**\n",
    "**Input:** mat1 = [[1,0,0],[-1,0,3]], mat2 = [[7,0,0],[0,0,0],[0,0,1]]\n",
    "\n",
    "**Output:**\n",
    "\n",
    "[[7,0,0],[-7,0,3]]"
   ]
  },
  {
   "cell_type": "code",
   "execution_count": 30,
   "id": "714434e7",
   "metadata": {},
   "outputs": [
    {
     "data": {
      "text/plain": [
       "[[7, 0, 0], [-7, 0, 3]]"
      ]
     },
     "execution_count": 30,
     "metadata": {},
     "output_type": "execute_result"
    }
   ],
   "source": [
    "def multiply(mat1,mat2):\n",
    "    m = len(mat1)\n",
    "    k = len(mat1[0])\n",
    "    n = len(mat2[0])\n",
    "    res = [[0] * n for _ in range(m)]\n",
    "    for i in range(m):\n",
    "        for j in range(k):\n",
    "            for x in range(n):\n",
    "                res[i][x] += mat1[i][j] * mat2[j][x]\n",
    "    return res\n",
    "\n",
    "multiply([[1,0,0],[-1,0,3]],[[7,0,0],[0,0,0],[0,0,1]])"
   ]
  },
  {
   "cell_type": "code",
   "execution_count": null,
   "id": "3ebd8a4a",
   "metadata": {},
   "outputs": [],
   "source": []
  },
  {
   "cell_type": "code",
   "execution_count": null,
   "id": "563d3105",
   "metadata": {},
   "outputs": [],
   "source": []
  }
 ],
 "metadata": {
  "kernelspec": {
   "display_name": "Python 3 (ipykernel)",
   "language": "python",
   "name": "python3"
  },
  "language_info": {
   "codemirror_mode": {
    "name": "ipython",
    "version": 3
   },
   "file_extension": ".py",
   "mimetype": "text/x-python",
   "name": "python",
   "nbconvert_exporter": "python",
   "pygments_lexer": "ipython3",
   "version": "3.9.13"
  }
 },
 "nbformat": 4,
 "nbformat_minor": 5
}
