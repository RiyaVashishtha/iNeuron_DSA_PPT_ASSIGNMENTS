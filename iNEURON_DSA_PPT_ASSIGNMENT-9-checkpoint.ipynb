{
 "cells": [
  {
   "cell_type": "markdown",
   "id": "eaa13204",
   "metadata": {},
   "source": [
    "# **Question 1**\n",
    "\n",
    "Given an integer `n`, return *`true` if it is a power of two. Otherwise, return `false`*.\n",
    "\n",
    "An integer `n` is a power of two, if there exists an integer `x` such that `n == 2x`.\n",
    "\n",
    "**Example 1:**\n",
    "Input: n = 1 \n",
    "\n",
    "Output: true\n",
    "\n",
    "**Example 2:**\n",
    "Input: n = 16 \n",
    "\n",
    "Output: true\n",
    "\n",
    "**Example 3:**\n",
    "Input: n = 3 \n",
    "\n",
    "Output: false\n"
   ]
  },
  {
   "cell_type": "code",
   "execution_count": 5,
   "id": "403715ab",
   "metadata": {},
   "outputs": [
    {
     "data": {
      "text/plain": [
       "True"
      ]
     },
     "execution_count": 5,
     "metadata": {},
     "output_type": "execute_result"
    }
   ],
   "source": [
    "def isPwerOfTwo(n):\n",
    "    if n <= 0:\n",
    "        return False\n",
    "    if n == 1:\n",
    "        return True\n",
    "    if n % 2 == 0:\n",
    "        return isPwerOfTwo(n//2)\n",
    "\n",
    "isPwerOfTwo(16)"
   ]
  },
  {
   "cell_type": "markdown",
   "id": "d4709098",
   "metadata": {},
   "source": [
    "# **Question 2**\n",
    "\n",
    "Given a number n, find the sum of the first natural numbers.\n",
    "\n",
    "**Example 1:**\n",
    "\n",
    "Input: n = 3 \n",
    "\n",
    "Output: 6\n",
    "\n",
    "**Example 2:**\n",
    "\n",
    "Input  : 5 \n",
    "\n",
    "Output : 15\n"
   ]
  },
  {
   "cell_type": "code",
   "execution_count": 3,
   "id": "5da2c5a9",
   "metadata": {},
   "outputs": [
    {
     "data": {
      "text/plain": [
       "6"
      ]
     },
     "execution_count": 3,
     "metadata": {},
     "output_type": "execute_result"
    }
   ],
   "source": [
    "def Sumnumber(n):\n",
    "    if n == 0:\n",
    "        return 0\n",
    "    return n + Sumnumber(n-1)\n",
    "\n",
    "Sumnumber(3)"
   ]
  },
  {
   "cell_type": "markdown",
   "id": "c3da6d06",
   "metadata": {},
   "source": [
    "# **Question 3**\n",
    "\n",
    "Given a positive integer, N. Find the factorial of N. \n",
    "\n",
    "**Example 1:**\n",
    "\n",
    "Input: N = 5 \n",
    "\n",
    "Output: 120\n",
    "\n",
    "**Example 2:**\n",
    "\n",
    "Input: N = 4\n",
    "\n",
    "Output: 24\n"
   ]
  },
  {
   "cell_type": "code",
   "execution_count": 2,
   "id": "ebd1d5ca",
   "metadata": {},
   "outputs": [
    {
     "data": {
      "text/plain": [
       "120"
      ]
     },
     "execution_count": 2,
     "metadata": {},
     "output_type": "execute_result"
    }
   ],
   "source": [
    "def factorial(n):\n",
    "    if n == 0:\n",
    "        return 1\n",
    "    return n * factorial(n-1)\n",
    "factorial(5)"
   ]
  },
  {
   "cell_type": "markdown",
   "id": "6ccc8f96",
   "metadata": {},
   "source": [
    "# **Question 4**\n",
    "\n",
    "Given a number N and a power P, the task is to find the exponent of this number raised to the given power, i.e. N^P.\n",
    "\n",
    "**Example 1 :** \n",
    "\n",
    "Input: N = 5, P = 2\n",
    "\n",
    "Output: 25\n",
    "\n",
    "**Example 2 :**\n",
    "Input: N = 2, P = 5\n",
    "\n",
    "Output: 32\n",
    "\n",
    "</aside>"
   ]
  },
  {
   "cell_type": "code",
   "execution_count": 7,
   "id": "cd6f1622",
   "metadata": {},
   "outputs": [
    {
     "data": {
      "text/plain": [
       "25"
      ]
     },
     "execution_count": 7,
     "metadata": {},
     "output_type": "execute_result"
    }
   ],
   "source": [
    "def PowerOfP(N,P):\n",
    "    if P ==0:\n",
    "        return 1\n",
    "    return N * PowerOfP(N,P-1)\n",
    "\n",
    "PowerOfP(5,2)"
   ]
  },
  {
   "cell_type": "markdown",
   "id": "2c695101",
   "metadata": {},
   "source": [
    "# **Question 5**\n",
    "\n",
    "Given an array of integers **arr**, the task is to find maximum element of that array using recursion.\n",
    "\n",
    "**Example 1:**\n",
    "\n",
    "Input: arr = {1, 4, 3, -5, -4, 8, 6};\n",
    "Output: 8\n",
    "\n",
    "**Example 2:**\n",
    "\n",
    "Input: arr = {1, 4, 45, 6, 10, -8};\n",
    "Output: 45\n"
   ]
  },
  {
   "cell_type": "code",
   "execution_count": 22,
   "id": "8daec9a0",
   "metadata": {},
   "outputs": [
    {
     "data": {
      "text/plain": [
       "8"
      ]
     },
     "execution_count": 22,
     "metadata": {},
     "output_type": "execute_result"
    }
   ],
   "source": [
    "def MaxElement(arr):\n",
    "    if len(arr) == 1:\n",
    "        return arr[0]\n",
    "    mid = len(arr)//2\n",
    "    l = arr[:mid]\n",
    "    r = arr[mid:]\n",
    "    max_left = MaxElement(l)\n",
    "    max_right = MaxElement(r)\n",
    "    MaxElement(r)\n",
    "    return max(max_left,max_right)\n",
    "\n",
    "MaxElement([1,4,3,-5,-4,8,6])\n",
    "    "
   ]
  },
  {
   "cell_type": "code",
   "execution_count": 23,
   "id": "f2047fcb",
   "metadata": {},
   "outputs": [
    {
     "data": {
      "text/plain": [
       "45"
      ]
     },
     "execution_count": 23,
     "metadata": {},
     "output_type": "execute_result"
    }
   ],
   "source": [
    "MaxElement([1, 4, 45, 6, 10, -8])"
   ]
  },
  {
   "cell_type": "markdown",
   "id": "12285798",
   "metadata": {},
   "source": [
    "# **Question 6**\n",
    "\n",
    "Given first term (a), common difference (d) and a integer N of the Arithmetic Progression series, the task is to find Nth term of the series.\n",
    "\n",
    "**Example 1:**\n",
    "\n",
    "Input : a = 2 d = 1 N = 5\n",
    "Output : 6\n",
    "The 5th term of the series is : 6\n",
    "\n",
    "**Example 2:**\n",
    "\n",
    "Input : a = 5 d = 2 N = 10\n",
    "Output : 23\n",
    "The 10th term of the series is : 23\n"
   ]
  },
  {
   "cell_type": "code",
   "execution_count": 6,
   "id": "661a0461",
   "metadata": {},
   "outputs": [
    {
     "data": {
      "text/plain": [
       "6"
      ]
     },
     "execution_count": 6,
     "metadata": {},
     "output_type": "execute_result"
    }
   ],
   "source": [
    "def Nth_of_AP(a,d,N):\n",
    "    return (a+ (N-1) * d)\n",
    "Nth_of_AP(2,1,5)"
   ]
  },
  {
   "cell_type": "markdown",
   "id": "b017e861",
   "metadata": {},
   "source": [
    "# **Question 7**\n",
    "\n",
    "Given a string S, the task is to write a program to print all permutations of a given string.\n",
    "\n",
    "**Example 1:**\n",
    "\n",
    "***Input:***\n",
    "\n",
    "*S = “ABC”*\n",
    "\n",
    "***Output:***\n",
    "\n",
    "*“ABC”, “ACB”, “BAC”, “BCA”, “CBA”, “CAB”*\n",
    "\n",
    "**Example 2:**\n",
    "\n",
    "***Input:***\n",
    "\n",
    "*S = “XY”*\n",
    "\n",
    "***Output:***\n",
    "\n",
    "*“XY”, “YX”*"
   ]
  },
  {
   "cell_type": "code",
   "execution_count": 14,
   "id": "e18a4990",
   "metadata": {},
   "outputs": [
    {
     "name": "stdout",
     "output_type": "stream",
     "text": [
      "ABC ACB BAC BCA CBA CAB "
     ]
    }
   ],
   "source": [
    "def permutations(S,current_index=0):\n",
    "    if current_index == len(S)-1:\n",
    "        print(\"\".join(S), end=\" \")\n",
    "    for i in range(current_index,len(S)):\n",
    "        swap(S,current_index,i)\n",
    "        permutations(S,current_index+1)\n",
    "        swap(S,current_index,i)\n",
    "\n",
    "def swap(S,curr_index,j):\n",
    "    S[curr_index],S[j] = S[j],S[curr_index]\n",
    "    \n",
    "    \n",
    "permutations(list(\"ABC\"))\n",
    "        "
   ]
  },
  {
   "cell_type": "markdown",
   "id": "dd8d406b",
   "metadata": {},
   "source": [
    "# **Question 8**\n",
    "\n",
    "Given an array, find a product of all array elements.\n",
    "\n",
    "**Example 1:**\n",
    "\n",
    "Input  : arr[] = {1, 2, 3, 4, 5}\n",
    "Output : 120\n",
    "**Example 2:**\n",
    "\n",
    "Input  : arr[] = {1, 6, 3}\n",
    "Output : 18\n"
   ]
  },
  {
   "cell_type": "code",
   "execution_count": 20,
   "id": "27480336",
   "metadata": {},
   "outputs": [
    {
     "data": {
      "text/plain": [
       "120"
      ]
     },
     "execution_count": 20,
     "metadata": {},
     "output_type": "execute_result"
    }
   ],
   "source": [
    "def multiply(arr,n):\n",
    "    if n == 0:\n",
    "        return arr[n]\n",
    "    return (arr[n] * multiply(arr,n-1))\n",
    "\n",
    "arr = [1,2,3,4,5]\n",
    "n = len(arr)-1\n",
    "multiply(arr,n)\n"
   ]
  },
  {
   "cell_type": "code",
   "execution_count": null,
   "id": "20531e83",
   "metadata": {},
   "outputs": [],
   "source": []
  }
 ],
 "metadata": {
  "kernelspec": {
   "display_name": "Python 3 (ipykernel)",
   "language": "python",
   "name": "python3"
  },
  "language_info": {
   "codemirror_mode": {
    "name": "ipython",
    "version": 3
   },
   "file_extension": ".py",
   "mimetype": "text/x-python",
   "name": "python",
   "nbconvert_exporter": "python",
   "pygments_lexer": "ipython3",
   "version": "3.9.13"
  }
 },
 "nbformat": 4,
 "nbformat_minor": 5
}
