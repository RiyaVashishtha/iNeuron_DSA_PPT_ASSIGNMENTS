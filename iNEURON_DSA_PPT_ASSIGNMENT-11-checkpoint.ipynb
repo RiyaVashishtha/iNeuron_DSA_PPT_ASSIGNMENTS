{
 "cells": [
  {
   "cell_type": "markdown",
   "id": "c77d174f",
   "metadata": {},
   "source": [
    "# **Question 1**\n",
    "\n",
    "Given a non-negative integer `x`, return *the square root of* `x` *rounded down to the nearest integer*. The returned integer should be **non-negative** as well.\n",
    "\n",
    "You **must not use** any built-in exponent function or operator.\n",
    "\n",
    "- For example, do not use `pow(x, 0.5)` in c++ or `x ** 0.5` in python.\n",
    "\n",
    "**Example 1:**\n",
    "    \n",
    "Input: x = 4\n",
    "Output: 2\n",
    "Explanation: The square root of 4 is 2, so we return 2.\n",
    "\n",
    "\n"
   ]
  },
  {
   "cell_type": "code",
   "execution_count": 8,
   "id": "611787b0",
   "metadata": {},
   "outputs": [
    {
     "data": {
      "text/plain": [
       "2"
      ]
     },
     "execution_count": 8,
     "metadata": {},
     "output_type": "execute_result"
    }
   ],
   "source": [
    "def floorSqrt(x):\n",
    " \n",
    "    # Base cases\n",
    "    if (x == 0 or x == 1):\n",
    "        return x\n",
    " \n",
    "    # Do Binary Search for floor(sqrt(x))\n",
    "    start = 1\n",
    "    end = x//2\n",
    "    while (start <= end):\n",
    "        mid = (start + end) // 2\n",
    " \n",
    "        # If x is a perfect square\n",
    "        if (mid*mid == x):\n",
    "            return mid\n",
    " \n",
    "        # Since we need floor, we update\n",
    "        # answer when mid*mid is smaller\n",
    "        # than x, and move closer to sqrt(x)\n",
    "        if (mid * mid < x):\n",
    "            start = mid + 1\n",
    "            ans = mid\n",
    " \n",
    "        else:\n",
    " \n",
    "            # If mid*mid is greater than x\n",
    "            end = mid-1\n",
    " \n",
    "    return ans\n",
    "\n",
    "floorSqrt(4)"
   ]
  },
  {
   "cell_type": "markdown",
   "id": "6170efb6",
   "metadata": {},
   "source": [
    "# **Question 2**\n",
    "\n",
    "A peak element is an element that is strictly greater than its neighbors.\n",
    "\n",
    "Given a **0-indexed** integer array `nums`, find a peak element, and return its index. If the array contains multiple peaks, return the index to **any of the peaks**.\n",
    "\n",
    "You may imagine that `nums[-1] = nums[n] = -∞`. In other words, an element is always considered to be strictly greater than a neighbor that is outside the array.\n",
    "\n",
    "You must write an algorithm that runs in `O(log n)` time.\n",
    "\n",
    "**Example 1:**\n",
    "\n",
    "Input: nums = [1,2,3,1]\n",
    "Output: 2\n",
    "Explanation: 3 is a peak element and your function should return the index number 2."
   ]
  },
  {
   "cell_type": "code",
   "execution_count": 6,
   "id": "e91b73b6",
   "metadata": {},
   "outputs": [
    {
     "data": {
      "text/plain": [
       "3"
      ]
     },
     "execution_count": 6,
     "metadata": {},
     "output_type": "execute_result"
    }
   ],
   "source": [
    "# time complexity -> O(log n) cause of binary search\n",
    "# space complexity -> O(1)\n",
    "\n",
    "def PeakElement(nums):\n",
    "    n = len(nums)\n",
    "    low = 0\n",
    "    high = len(nums)-1\n",
    "    while low < high:\n",
    "        mid = (low+high)//2\n",
    "        if nums[mid] > nums[mid+1]:\n",
    "            high = mid\n",
    "        else:\n",
    "            low = mid+1\n",
    "    # low because at the end low = high, so, return low or high\n",
    "    return nums[low]\n",
    "\n",
    "PeakElement([1,2,3,1])"
   ]
  },
  {
   "cell_type": "markdown",
   "id": "fd0a6119",
   "metadata": {},
   "source": [
    "# **Question 3**\n",
    "\n",
    "****\n",
    "\n",
    "Given an array `nums` containing `n` distinct numbers in the range `[0, n]`, return *the only number in the range that is missing from the array.*\n",
    "\n",
    "**Example 1:**\n",
    "\n",
    "Input: nums = [3,0,1]\n",
    "Output: 2\n",
    "Explanation: n = 3 since there are 3 numbers, so all numbers are in the range [0,3]. 2 is the missing number in the range since it does not appear in nums.\n"
   ]
  },
  {
   "cell_type": "code",
   "execution_count": 1,
   "id": "b9556fc7",
   "metadata": {},
   "outputs": [
    {
     "data": {
      "text/plain": [
       "2"
      ]
     },
     "execution_count": 1,
     "metadata": {},
     "output_type": "execute_result"
    }
   ],
   "source": [
    "# TC-O(N)\n",
    "# SC- O(N)\n",
    "def missingNumber(nums):\n",
    "        hashset = set(nums)\n",
    "        for i in range(len(nums)+1):\n",
    "            if i not in hashset:\n",
    "                return i\n",
    "        return -1\n",
    "    \n",
    "missingNumber([3,0,1])\n",
    "            "
   ]
  },
  {
   "cell_type": "code",
   "execution_count": 2,
   "id": "8f73b235",
   "metadata": {},
   "outputs": [
    {
     "data": {
      "text/plain": [
       "2"
      ]
     },
     "execution_count": 2,
     "metadata": {},
     "output_type": "execute_result"
    }
   ],
   "source": [
    "# MORE OPTIMIZED USING SORTING\n",
    "# TC- O(log n)\n",
    "# SC- O(1)\n",
    "def missingNumber(nums):\n",
    "    i = 0\n",
    "    nums.sort()\n",
    "    for num in nums:\n",
    "        if num != i:\n",
    "            break\n",
    "        i += 1\n",
    "    return i\n",
    "\n",
    "missingNumber([3,0,1])"
   ]
  },
  {
   "cell_type": "markdown",
   "id": "1d60f12f",
   "metadata": {},
   "source": [
    "# **Question 4**\n",
    "\n",
    "Given an array of integers `nums` containing `n + 1` integers where each integer is in the range `[1, n]` inclusive.\n",
    "\n",
    "There is only **one repeated number** in `nums`, return *this repeated number*.\n",
    "\n",
    "You must solve the problem **without** modifying the array `nums` and uses only constant extra space.\n",
    "\n",
    "**Example 1:**\n",
    "\n",
    "Input: nums = [1,3,4,2,2]\n",
    "    \n",
    "Output: 2\n"
   ]
  },
  {
   "cell_type": "code",
   "execution_count": 4,
   "id": "97ef8961",
   "metadata": {},
   "outputs": [
    {
     "data": {
      "text/plain": [
       "2"
      ]
     },
     "execution_count": 4,
     "metadata": {},
     "output_type": "execute_result"
    }
   ],
   "source": [
    "# using floyd's cycle detection\n",
    "# time complexity -> O(N)\n",
    "# space complexity -> O(1)\n",
    "\n",
    "def findDuplicate(nums):\n",
    "        fast = 0\n",
    "        slow = 0\n",
    "        while True:\n",
    "            slow = nums[slow]\n",
    "            fast = nums[nums[fast]]\n",
    "            if slow == fast:\n",
    "                break\n",
    "\n",
    "        head = 0\n",
    "        while slow != head:\n",
    "            slow = nums[slow]\n",
    "            head = nums[head]\n",
    "        return slow\n",
    "    \n",
    "findDuplicate([1,3,4,2,2])\n",
    "        "
   ]
  },
  {
   "cell_type": "markdown",
   "id": "becf5958",
   "metadata": {},
   "source": [
    "# **Question 5**\n",
    "\n",
    "Given two integer arrays `nums1` and `nums2`, return *an array of their intersection*. Each element in the result must be **unique** and you may return the result in **any order**.\n",
    "\n",
    "**Example 1:**\n",
    "\n",
    "Input: nums1 = [1,2,2,1], \n",
    "\n",
    "nums2 = [2,2]\n",
    "\n",
    "Output: [2]\n"
   ]
  },
  {
   "cell_type": "code",
   "execution_count": 8,
   "id": "ecb10848",
   "metadata": {},
   "outputs": [
    {
     "data": {
      "text/plain": [
       "[2]"
      ]
     },
     "execution_count": 8,
     "metadata": {},
     "output_type": "execute_result"
    }
   ],
   "source": [
    "def intersection(nums1,nums2):\n",
    "    mp = {}\n",
    "    res = set()\n",
    "    for i in range(len(nums1)):\n",
    "        mp[nums1[i]] = i\n",
    "    for j in nums2:\n",
    "        if j in mp:\n",
    "            res.add(j)\n",
    "    return list(res)\n",
    "\n",
    "intersection([1,2,2,1],[2,2])"
   ]
  },
  {
   "cell_type": "markdown",
   "id": "143a88a9",
   "metadata": {},
   "source": [
    "# **Question 6**\n",
    "\n",
    "Suppose an array of length `n` sorted in ascending order is **rotated** between `1` and `n` times. For example, the array `nums = [0,1,2,4,5,6,7]` might become:\n",
    "\n",
    "- `[4,5,6,7,0,1,2]` if it was rotated `4` times.\n",
    "- `[0,1,2,4,5,6,7]` if it was rotated `7` times.\n",
    "\n",
    "Notice that **rotating** an array `[a[0], a[1], a[2], ..., a[n-1]]` 1 time results in the array `[a[n-1], a[0], a[1], a[2], ..., a[n-2]]`.\n",
    "\n",
    "Given the sorted rotated array `nums` of **unique** elements, return *the minimum element of this array*.\n",
    "\n",
    "You must write an algorithm that runs in `O(log n) time.`\n",
    "\n",
    "**Example 1:**\n",
    "\n",
    "Input: nums = [3,4,5,1,2]\n",
    "    \n",
    "Output: 1\n",
    "    \n",
    "Explanation: The original array was [1,2,3,4,5] rotated 3 times.\n"
   ]
  },
  {
   "cell_type": "code",
   "execution_count": 3,
   "id": "88997034",
   "metadata": {},
   "outputs": [
    {
     "data": {
      "text/plain": [
       "1"
      ]
     },
     "execution_count": 3,
     "metadata": {},
     "output_type": "execute_result"
    }
   ],
   "source": [
    "def findMin(nums):\n",
    "        if len(nums) == 1:\n",
    "            return nums[0]\n",
    "        l = 0\n",
    "        r = len(nums)-1\n",
    "        # if the last element is greater than the first element then there is no rotation.\n",
    "        if nums[r] > nums[l]:\n",
    "            return nums[0]\n",
    "        while l <= r:\n",
    "            mid = (l+r)//2\n",
    "            if nums[mid] > nums[mid+1]:\n",
    "                return nums[mid+1]\n",
    "            if nums[mid-1] > nums[mid]:\n",
    "                return nums[mid]\n",
    "            if nums[mid] > nums[0]:\n",
    "                l = mid+1\n",
    "            else:\n",
    "                r = mid-1\n",
    "\n",
    "findMin([3,4,5,1,2])"
   ]
  },
  {
   "cell_type": "markdown",
   "id": "f52408a1",
   "metadata": {},
   "source": [
    "# **Question 7**\n",
    "\n",
    "Given an array of integers `nums` sorted in non-decreasing order, find the starting and ending position of a given `target` value.\n",
    "\n",
    "If `target` is not found in the array, return `[-1, -1]`.\n",
    "\n",
    "You must write an algorithm with `O(log n)` runtime complexity.\n",
    "\n",
    "**Example 1:**\n",
    "\n",
    "Input: nums = [5,7,7,8,8,10], \n",
    "\n",
    "target = 8\n",
    "\n",
    "Output: [3,4]\n"
   ]
  },
  {
   "cell_type": "code",
   "execution_count": 7,
   "id": "e5b91f76",
   "metadata": {},
   "outputs": [
    {
     "data": {
      "text/plain": [
       "[3, 4]"
      ]
     },
     "execution_count": 7,
     "metadata": {},
     "output_type": "execute_result"
    }
   ],
   "source": [
    "# time complexity -> 2 * O(log n) as doing binary search 2 times - 1 for left index and 2nd for right index\n",
    "# so, TC -> O(log n)\n",
    "# space complexity -> O(1)\n",
    "\n",
    "\n",
    "def FirstLastPosition(nums,target):\n",
    "    left = binSearch(nums,target,True)\n",
    "    right = binSearch(nums,target,False)\n",
    "    return [left,right]\n",
    "    \n",
    "    \n",
    "def binSearch(nums,target,Leftbias):\n",
    "    l = 0\n",
    "    r = len(nums)-1\n",
    "    i = -1\n",
    "    while l <= r:\n",
    "        mid = (l+r)//2\n",
    "        if nums[mid] < target:\n",
    "            l = mid + 1\n",
    "        elif nums[mid] > target:\n",
    "            r = mid -1\n",
    "        else:\n",
    "            i = mid\n",
    "            if Leftbias:\n",
    "                r = mid -1\n",
    "            else:\n",
    "                l = mid + 1\n",
    "    return i\n",
    "\n",
    "FirstLastPosition([5,7,7,8,8,10],8)"
   ]
  },
  {
   "cell_type": "markdown",
   "id": "8da04991",
   "metadata": {},
   "source": [
    "# **Question 8**\n",
    "\n",
    "Given two integer arrays `nums1` and `nums2`, return *an array of their intersection*. Each element in the result must appear as many times as it shows in both arrays and you may return the result in **any order**.\n",
    "\n",
    "**Example 1:**\n",
    "Input: nums1 = [1,2,2,1], \n",
    "\n",
    "nums2 = [2,2]\n",
    "\n",
    "Output: [2,2]\n"
   ]
  },
  {
   "cell_type": "code",
   "execution_count": 3,
   "id": "d1018b86",
   "metadata": {},
   "outputs": [
    {
     "data": {
      "text/plain": [
       "[2]"
      ]
     },
     "execution_count": 3,
     "metadata": {},
     "output_type": "execute_result"
    }
   ],
   "source": [
    "def intersection(nums1,nums2):\n",
    "    mp = {}\n",
    "    res = set()\n",
    "    for i in range(len(nums1)):\n",
    "        mp[nums1[i]] = i\n",
    "    for j in nums2:\n",
    "        if j in mp:\n",
    "            res.add(j)\n",
    "    return list(res)\n",
    "\n",
    "intersection([1,2,2,1],[2,2])"
   ]
  },
  {
   "cell_type": "code",
   "execution_count": null,
   "id": "0938daf4",
   "metadata": {},
   "outputs": [],
   "source": []
  }
 ],
 "metadata": {
  "kernelspec": {
   "display_name": "Python 3 (ipykernel)",
   "language": "python",
   "name": "python3"
  },
  "language_info": {
   "codemirror_mode": {
    "name": "ipython",
    "version": 3
   },
   "file_extension": ".py",
   "mimetype": "text/x-python",
   "name": "python",
   "nbconvert_exporter": "python",
   "pygments_lexer": "ipython3",
   "version": "3.9.13"
  }
 },
 "nbformat": 4,
 "nbformat_minor": 5
}
