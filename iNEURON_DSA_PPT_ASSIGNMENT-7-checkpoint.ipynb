{
 "cells": [
  {
   "cell_type": "markdown",
   "id": "9f703057",
   "metadata": {},
   "source": [
    "# **Question 1**\n",
    "\n",
    "Given two strings s and t, *determine if they are isomorphic*.\n",
    "\n",
    "Two strings s and t are isomorphic if the characters in s can be replaced to get t.\n",
    "\n",
    "All occurrences of a character must be replaced with another character while preserving the order of characters. No two characters may map to the same character, but a character may map to itself.\n",
    "\n",
    "**Example 1:**\n",
    "\n",
    "**Input:** s = \"egg\", t = \"add\"\n",
    "\n",
    "**Output:** true\n"
   ]
  },
  {
   "cell_type": "code",
   "execution_count": 15,
   "id": "0bb3e3a9",
   "metadata": {},
   "outputs": [
    {
     "data": {
      "text/plain": [
       "True"
      ]
     },
     "execution_count": 15,
     "metadata": {},
     "output_type": "execute_result"
    }
   ],
   "source": [
    "def isIsomorphic(s,t):\n",
    "    mapST = {}\n",
    "    mapTS = {}\n",
    "    for c1,c2 in zip(s,t):\n",
    "        if ((c1 in mapST and mapST[c1] != c2) or (c2 in mapTS and mapTS[c2] != c1)):\n",
    "            return False\n",
    "        mapST[c1] = c2\n",
    "        mapTS[c2] = c1\n",
    "    return True\n",
    "\n",
    "\n",
    "isIsomorphic(\"egg\",\"add\")"
   ]
  },
  {
   "cell_type": "markdown",
   "id": "fad7cf7d",
   "metadata": {},
   "source": [
    "# **Question 2**\n",
    "\n",
    "Given a string num which represents an integer, return true *if* num *is a **strobogrammatic number***.\n",
    "\n",
    "A **strobogrammatic number** is a number that looks the same when rotated 180 degrees (looked at upside down).\n",
    "\n",
    "**Example 1:**\n",
    "\n",
    "**Input:** num = \"69\"\n",
    "\n",
    "**Output:**\n",
    "\n",
    "true\n",
    "\n"
   ]
  },
  {
   "cell_type": "code",
   "execution_count": 8,
   "id": "ab4ba9f2",
   "metadata": {},
   "outputs": [
    {
     "data": {
      "text/plain": [
       "True"
      ]
     },
     "execution_count": 8,
     "metadata": {},
     "output_type": "execute_result"
    }
   ],
   "source": [
    "# time complexity O(N)\n",
    "# space complexity O(1)\n",
    "\n",
    "def isStrobogrammatic(num):\n",
    "    strobo_numbers = {'0': '0',\n",
    "                    '1' : '1',\n",
    "                    '8' : '8',\n",
    "                    '6' : '9',\n",
    "                    '9' : '6'}\n",
    "    i = 0\n",
    "    j = len(num)-1\n",
    "    if len(num) == 1 and num[0] in ['0','1','8']:\n",
    "        return True\n",
    "    else:\n",
    "        False\n",
    "    while i <= j:\n",
    "        if num[i] in strobo_numbers and strobo_numbers[num[i]] == num[j]:\n",
    "            i += 1\n",
    "            j -= 1\n",
    "        else:\n",
    "            return False\n",
    "    return True\n",
    "\n",
    "isStrobogrammatic('69')"
   ]
  },
  {
   "cell_type": "markdown",
   "id": "a83de381",
   "metadata": {},
   "source": [
    "# **Question 3**\n",
    "\n",
    "Given two non-negative integers, num1 and num2 represented as string, return *the sum of* num1 *and* num2 *as a string*.\n",
    "\n",
    "You must solve the problem without using any built-in library for handling large integers (such as BigInteger). You must also not convert the inputs to integers directly.\n",
    "\n",
    "**Example 1:**\n",
    "\n",
    "**Input:** num1 = \"11\", num2 = \"123\"\n",
    "\n",
    "**Output:**\n",
    "\n",
    "\"134\"\n"
   ]
  },
  {
   "cell_type": "code",
   "execution_count": 5,
   "id": "6e2d6071",
   "metadata": {},
   "outputs": [
    {
     "data": {
      "text/plain": [
       "'134'"
      ]
     },
     "execution_count": 5,
     "metadata": {},
     "output_type": "execute_result"
    }
   ],
   "source": [
    " def addStrings(num1,num2):\n",
    "        i = len(num1)-1\n",
    "        j = len(num2)-1\n",
    "        carry = 0\n",
    "        res = []\n",
    "        while i >= 0 or j >= 0:\n",
    "            if i >=0:\n",
    "                curr_i = int(num1[i])\n",
    "            else:\n",
    "                curr_i = 0\n",
    "            if j >= 0:\n",
    "                curr_j = int(num2[j])\n",
    "            else:\n",
    "                curr_j = 0\n",
    "            curr_sum = carry + curr_i + curr_j\n",
    "            res.append(str(curr_sum % 10))\n",
    "            carry = curr_sum//10\n",
    "            i -= 1\n",
    "            j -= 1\n",
    "        if carry:\n",
    "            res.append(str(carry))\n",
    "        return \"\".join(res[::-1])\n",
    "    \n",
    "addStrings(\"11\",\"123\")"
   ]
  },
  {
   "cell_type": "markdown",
   "id": "f7bd1f82",
   "metadata": {},
   "source": [
    "# **Question 4**\n",
    "\n",
    "Given a string s, reverse the order of characters in each word within a sentence while still preserving whitespace and initial word order.\n",
    "\n",
    "**Example 1:**\n",
    "\n",
    "**Input:** s = \"Let's take LeetCode contest\"\n",
    "\n",
    "**Output:** \"s'teL ekat edoCteeL tsetnoc\"\n"
   ]
  },
  {
   "cell_type": "code",
   "execution_count": 9,
   "id": "1076383d",
   "metadata": {},
   "outputs": [
    {
     "data": {
      "text/plain": [
       "\"s'teL ekat edoCteeL tsetnoc\""
      ]
     },
     "execution_count": 9,
     "metadata": {},
     "output_type": "execute_result"
    }
   ],
   "source": [
    "# using list comprehension\n",
    "def reverseWords(s):\n",
    "    return ' '.join([word[::-1] for word in s.split()])\n",
    "reverseWords(\"Let's take LeetCode contest\")"
   ]
  },
  {
   "cell_type": "code",
   "execution_count": 12,
   "id": "899ce6c1",
   "metadata": {},
   "outputs": [
    {
     "data": {
      "text/plain": [
       "\"s'teL ekat edoCteeL tsetnoc\""
      ]
     },
     "execution_count": 12,
     "metadata": {},
     "output_type": "execute_result"
    }
   ],
   "source": [
    "# using 2 pointer approach\n",
    "def reverseWords(s):\n",
    "    def flip_word_in_place(left,right):\n",
    "        while left < right:\n",
    "            s_arr[left],s_arr[right] = s_arr[right],s_arr[left]\n",
    "            left += 1\n",
    "            right -= 1\n",
    "    \n",
    "    l = 0\n",
    "    s_arr = list(s)\n",
    "    for i in range(len(s_arr)):\n",
    "        if s_arr[i] == \" \":\n",
    "            flip_word_in_place(l,i-1)\n",
    "            l = i+1\n",
    "    flip_word_in_place(l, len(s_arr)-1)\n",
    "    return \"\".join(s_arr)\n",
    "\n",
    "reverseWords(\"Let's take LeetCode contest\")           \n",
    "            \n",
    "        \n",
    "    "
   ]
  },
  {
   "cell_type": "markdown",
   "id": "1ce55997",
   "metadata": {},
   "source": [
    "# **Question 5**\n",
    "\n",
    "Given a string s and an integer k, reverse the first k characters for every 2k characters counting from the start of the string.\n",
    "\n",
    "If there are fewer than k characters left, reverse all of them. If there are less than 2k but greater than or equal to k characters, then reverse the first k characters and leave the other as original.\n",
    "\n",
    "**Example 1:**\n",
    "\n",
    "**Input:** s = \"abcdefg\", k = 2\n",
    "\n",
    "**Output:**\n",
    "\n",
    "\"bacdfeg\"\n"
   ]
  },
  {
   "cell_type": "code",
   "execution_count": 19,
   "id": "3ff2d69e",
   "metadata": {},
   "outputs": [
    {
     "data": {
      "text/plain": [
       "'bacdfeg'"
      ]
     },
     "execution_count": 19,
     "metadata": {},
     "output_type": "execute_result"
    }
   ],
   "source": [
    "def reverseStr(s,k):\n",
    "    if k >= len(s):\n",
    "        s[::-1]\n",
    "    s = list(s)\n",
    "    for i in range(0,len(s),2*k):\n",
    "        s[i:i+k] = (s[i:i+k])[::-1]\n",
    "        \n",
    "    return ''.join(s)\n",
    "reverseStr(\"abcdefg\",2)\n",
    "    "
   ]
  },
  {
   "cell_type": "markdown",
   "id": "e394d3d0",
   "metadata": {},
   "source": [
    "# **Question 6**\n",
    "\n",
    "Given two strings s and goal, return true *if and only if* s *can become* goal *after some number of **shifts** on* s.\n",
    "\n",
    "A **shift** on s consists of moving the leftmost character of s to the rightmost position.\n",
    "\n",
    "- For example, if s = \"abcde\", then it will be \"bcdea\" after one shift.\n",
    "\n",
    "**Example 1:**\n",
    "\n",
    "**Input:** s = \"abcde\", goal = \"cdeab\"\n",
    "\n",
    "**Output:**\n",
    "\n",
    "true\n"
   ]
  },
  {
   "cell_type": "code",
   "execution_count": 2,
   "id": "12249c47",
   "metadata": {},
   "outputs": [
    {
     "data": {
      "text/plain": [
       "True"
      ]
     },
     "execution_count": 2,
     "metadata": {},
     "output_type": "execute_result"
    }
   ],
   "source": [
    "# time complexity O(s + 2s)= O(s) \n",
    "# space complexity O(s)\n",
    "\n",
    "def rotateString(s,goal):\n",
    "    if len(s) != len(goal):\n",
    "        return False\n",
    "    if goal in (s+s):\n",
    "        return True\n",
    "rotateString(\"abcde\",\"cdeab\")"
   ]
  },
  {
   "cell_type": "markdown",
   "id": "328ffbf1",
   "metadata": {},
   "source": [
    "# **Question 7**\n",
    "\n",
    "Given two strings s and t, return true *if they are equal when both are typed into empty text editors*. '#' means a backspace character.\n",
    "\n",
    "Note that after backspacing an empty text, the text will continue empty.\n",
    "\n",
    "**Example 1:**\n",
    "\n",
    "**Input:** s = \"ab#c\", t = \"ad#c\"\n",
    "\n",
    "**Output:** true\n",
    "\n",
    "**Explanation:**\n",
    "\n",
    "Both s and t become \"ac\".\n"
   ]
  },
  {
   "cell_type": "code",
   "execution_count": 18,
   "id": "7ad2513a",
   "metadata": {},
   "outputs": [
    {
     "data": {
      "text/plain": [
       "True"
      ]
     },
     "execution_count": 18,
     "metadata": {},
     "output_type": "execute_result"
    }
   ],
   "source": [
    "# time complexity O(n) and space complexity O(n)\n",
    "def backspaceCompare(s,t):\n",
    "    s1 = []\n",
    "    t1 = []\n",
    "    for i in s:\n",
    "        if i == \"#\":\n",
    "            if s1:\n",
    "                s1.pop()\n",
    "        else:\n",
    "            s1.append(i)\n",
    "    for j in t:\n",
    "        if j == \"#\":\n",
    "            if t1:\n",
    "                t1.pop()\n",
    "        else:\n",
    "            t1.append(j)\n",
    "    if s1 == t1:\n",
    "        return True\n",
    "    else:\n",
    "        return False\n",
    "\n",
    "backspaceCompare(\"ab#c\", \"ad#c\")\n",
    "            "
   ]
  },
  {
   "cell_type": "markdown",
   "id": "440bceb9",
   "metadata": {},
   "source": [
    "# **Question 8**\n",
    "\n",
    "You are given an array coordinates, coordinates[i] = [x, y], where [x, y] represents the coordinate of a point. Check if these points make a straight line in the XY plane.\n",
    "\n",
    "**Input:** coordinates = [[1,2],[2,3],[3,4],[4,5],[5,6],[6,7]]\n",
    "\n",
    "**Output:** true"
   ]
  },
  {
   "cell_type": "code",
   "execution_count": 20,
   "id": "784772e8",
   "metadata": {},
   "outputs": [
    {
     "data": {
      "text/plain": [
       "True"
      ]
     },
     "execution_count": 20,
     "metadata": {},
     "output_type": "execute_result"
    }
   ],
   "source": [
    "# time complexity O(n) and space complexity O(1)\n",
    "def checkStraightLine(coordinates):\n",
    "    (x1,y1) = coordinates[0]\n",
    "    (x2,y2) = coordinates[1]\n",
    "    # (y2-y1)/(x2-x1) = (y3-y1)/(x3-x1)\n",
    "    for (x3,y3) in coordinates[2:]:\n",
    "        if (y2-y1) * (x3-x1) != (y3-y1) * (x2-x1):\n",
    "            return False\n",
    "    return True\n",
    "\n",
    "checkStraightLine( [[1,2],[2,3],[3,4],[4,5],[5,6],[6,7]])"
   ]
  },
  {
   "cell_type": "code",
   "execution_count": null,
   "id": "e1f00c1a",
   "metadata": {},
   "outputs": [],
   "source": []
  }
 ],
 "metadata": {
  "kernelspec": {
   "display_name": "Python 3 (ipykernel)",
   "language": "python",
   "name": "python3"
  },
  "language_info": {
   "codemirror_mode": {
    "name": "ipython",
    "version": 3
   },
   "file_extension": ".py",
   "mimetype": "text/x-python",
   "name": "python",
   "nbconvert_exporter": "python",
   "pygments_lexer": "ipython3",
   "version": "3.9.13"
  }
 },
 "nbformat": 4,
 "nbformat_minor": 5
}
